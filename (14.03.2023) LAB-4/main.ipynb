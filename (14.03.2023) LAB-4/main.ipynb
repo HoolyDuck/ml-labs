{
 "cells": [
  {
   "cell_type": "code",
   "execution_count": 1,
   "metadata": {},
   "outputs": [],
   "source": [
    "from sklearn.datasets import load_digits\n",
    "\n",
    "digits = load_digits()\n"
   ]
  },
  {
   "cell_type": "code",
   "execution_count": 2,
   "metadata": {},
   "outputs": [
    {
     "name": "stdout",
     "output_type": "stream",
     "text": [
      "[[ 0.  0.  5. 13.  9.  1.  0.  0.]\n",
      " [ 0.  0. 13. 15. 10. 15.  5.  0.]\n",
      " [ 0.  3. 15.  2.  0. 11.  8.  0.]\n",
      " [ 0.  4. 12.  0.  0.  8.  8.  0.]\n",
      " [ 0.  5.  8.  0.  0.  9.  8.  0.]\n",
      " [ 0.  4. 11.  0.  1. 12.  7.  0.]\n",
      " [ 0.  2. 14.  5. 10. 12.  0.  0.]\n",
      " [ 0.  0.  6. 13. 10.  0.  0.  0.]]\n",
      "[[ 0.  0.  0. 12. 13.  5.  0.  0.]\n",
      " [ 0.  0.  0. 11. 16.  9.  0.  0.]\n",
      " [ 0.  0.  3. 15. 16.  6.  0.  0.]\n",
      " [ 0.  7. 15. 16. 16.  2.  0.  0.]\n",
      " [ 0.  0.  1. 16. 16.  3.  0.  0.]\n",
      " [ 0.  0.  1. 16. 16.  6.  0.  0.]\n",
      " [ 0.  0.  1. 16. 16.  6.  0.  0.]\n",
      " [ 0.  0.  0. 11. 16. 10.  0.  0.]]\n",
      "[[ 0.  0.  0.  4. 15. 12.  0.  0.]\n",
      " [ 0.  0.  3. 16. 15. 14.  0.  0.]\n",
      " [ 0.  0.  8. 13.  8. 16.  0.  0.]\n",
      " [ 0.  0.  1.  6. 15. 11.  0.  0.]\n",
      " [ 0.  1.  8. 13. 15.  1.  0.  0.]\n",
      " [ 0.  9. 16. 16.  5.  0.  0.  0.]\n",
      " [ 0.  3. 13. 16. 16. 11.  5.  0.]\n",
      " [ 0.  0.  0.  3. 11. 16.  9.  0.]]\n",
      "[[ 0.  0.  7. 15. 13.  1.  0.  0.]\n",
      " [ 0.  8. 13.  6. 15.  4.  0.  0.]\n",
      " [ 0.  2.  1. 13. 13.  0.  0.  0.]\n",
      " [ 0.  0.  2. 15. 11.  1.  0.  0.]\n",
      " [ 0.  0.  0.  1. 12. 12.  1.  0.]\n",
      " [ 0.  0.  0.  0.  1. 10.  8.  0.]\n",
      " [ 0.  0.  8.  4.  5. 14.  9.  0.]\n",
      " [ 0.  0.  7. 13. 13.  9.  0.  0.]]\n",
      "[[ 0.  0.  0.  1. 11.  0.  0.  0.]\n",
      " [ 0.  0.  0.  7.  8.  0.  0.  0.]\n",
      " [ 0.  0.  1. 13.  6.  2.  2.  0.]\n",
      " [ 0.  0.  7. 15.  0.  9.  8.  0.]\n",
      " [ 0.  5. 16. 10.  0. 16.  6.  0.]\n",
      " [ 0.  4. 15. 16. 13. 16.  1.  0.]\n",
      " [ 0.  0.  0.  3. 15. 10.  0.  0.]\n",
      " [ 0.  0.  0.  2. 16.  4.  0.  0.]]\n",
      "[[ 0.  0. 12. 10.  0.  0.  0.  0.]\n",
      " [ 0.  0. 14. 16. 16. 14.  0.  0.]\n",
      " [ 0.  0. 13. 16. 15. 10.  1.  0.]\n",
      " [ 0.  0. 11. 16. 16.  7.  0.  0.]\n",
      " [ 0.  0.  0.  4.  7. 16.  7.  0.]\n",
      " [ 0.  0.  0.  0.  4. 16.  9.  0.]\n",
      " [ 0.  0.  5.  4. 12. 16.  4.  0.]\n",
      " [ 0.  0.  9. 16. 16. 10.  0.  0.]]\n",
      "[[ 0.  0.  0. 12. 13.  0.  0.  0.]\n",
      " [ 0.  0.  5. 16.  8.  0.  0.  0.]\n",
      " [ 0.  0. 13. 16.  3.  0.  0.  0.]\n",
      " [ 0.  0. 14. 13.  0.  0.  0.  0.]\n",
      " [ 0.  0. 15. 12.  7.  2.  0.  0.]\n",
      " [ 0.  0. 13. 16. 13. 16.  3.  0.]\n",
      " [ 0.  0.  7. 16. 11. 15.  8.  0.]\n",
      " [ 0.  0.  1.  9. 15. 11.  3.  0.]]\n",
      "[[ 0.  0.  7.  8. 13. 16. 15.  1.]\n",
      " [ 0.  0.  7.  7.  4. 11. 12.  0.]\n",
      " [ 0.  0.  0.  0.  8. 13.  1.  0.]\n",
      " [ 0.  4.  8.  8. 15. 15.  6.  0.]\n",
      " [ 0.  2. 11. 15. 15.  4.  0.  0.]\n",
      " [ 0.  0.  0. 16.  5.  0.  0.  0.]\n",
      " [ 0.  0.  9. 15.  1.  0.  0.  0.]\n",
      " [ 0.  0. 13.  5.  0.  0.  0.  0.]]\n",
      "[[ 0.  0.  9. 14.  8.  1.  0.  0.]\n",
      " [ 0.  0. 12. 14. 14. 12.  0.  0.]\n",
      " [ 0.  0.  9. 10.  0. 15.  4.  0.]\n",
      " [ 0.  0.  3. 16. 12. 14.  2.  0.]\n",
      " [ 0.  0.  4. 16. 16.  2.  0.  0.]\n",
      " [ 0.  3. 16.  8. 10. 13.  2.  0.]\n",
      " [ 0.  1. 15.  1.  3. 16.  8.  0.]\n",
      " [ 0.  0. 11. 16. 15. 11.  1.  0.]]\n",
      "[[ 0.  0. 11. 12.  0.  0.  0.  0.]\n",
      " [ 0.  2. 16. 16. 16. 13.  0.  0.]\n",
      " [ 0.  3. 16. 12. 10. 14.  0.  0.]\n",
      " [ 0.  1. 16.  1. 12. 15.  0.  0.]\n",
      " [ 0.  0. 13. 16.  9. 15.  2.  0.]\n",
      " [ 0.  0.  0.  3.  0.  9. 11.  0.]\n",
      " [ 0.  0.  0.  0.  9. 15.  4.  0.]\n",
      " [ 0.  0.  9. 12. 13.  3.  0.  0.]]\n",
      "[[ 0.  0.  1.  9. 15. 11.  0.  0.]\n",
      " [ 0.  0. 11. 16.  8. 14.  6.  0.]\n",
      " [ 0.  2. 16. 10.  0.  9.  9.  0.]\n",
      " [ 0.  1. 16.  4.  0.  8.  8.  0.]\n",
      " [ 0.  4. 16.  4.  0.  8.  8.  0.]\n",
      " [ 0.  1. 16.  5.  1. 11.  3.  0.]\n",
      " [ 0.  0. 12. 12. 10. 10.  0.  0.]\n",
      " [ 0.  0.  1. 10. 13.  3.  0.  0.]]\n",
      "[[ 0.  0.  0.  0. 14. 13.  1.  0.]\n",
      " [ 0.  0.  0.  5. 16. 16.  2.  0.]\n",
      " [ 0.  0.  0. 14. 16. 12.  0.  0.]\n",
      " [ 0.  1. 10. 16. 16. 12.  0.  0.]\n",
      " [ 0.  3. 12. 14. 16.  9.  0.  0.]\n",
      " [ 0.  0.  0.  5. 16. 15.  0.  0.]\n",
      " [ 0.  0.  0.  4. 16. 14.  0.  0.]\n",
      " [ 0.  0.  0.  1. 13. 16.  1.  0.]]\n",
      "[[ 0.  0.  5. 12.  1.  0.  0.  0.]\n",
      " [ 0.  0. 15. 14.  7.  0.  0.  0.]\n",
      " [ 0.  0. 13.  1. 12.  0.  0.  0.]\n",
      " [ 0.  2. 10.  0. 14.  0.  0.  0.]\n",
      " [ 0.  0.  2.  0. 16.  1.  0.  0.]\n",
      " [ 0.  0.  0.  6. 15.  0.  0.  0.]\n",
      " [ 0.  0.  9. 16. 15.  9.  8.  2.]\n",
      " [ 0.  0.  3. 11.  8. 13. 12.  4.]]\n",
      "[[ 0.  2.  9. 15. 14.  9.  3.  0.]\n",
      " [ 0.  4. 13.  8.  9. 16.  8.  0.]\n",
      " [ 0.  0.  0.  6. 14. 15.  3.  0.]\n",
      " [ 0.  0.  0. 11. 14.  2.  0.  0.]\n",
      " [ 0.  0.  0.  2. 15. 11.  0.  0.]\n",
      " [ 0.  0.  0.  0.  2. 15.  4.  0.]\n",
      " [ 0.  1.  5.  6. 13. 16.  6.  0.]\n",
      " [ 0.  2. 12. 12. 13. 11.  0.  0.]]\n",
      "[[ 0.  0.  0.  8. 15.  1.  0.  0.]\n",
      " [ 0.  0.  1. 14. 13.  1.  1.  0.]\n",
      " [ 0.  0. 10. 15.  3. 15. 11.  0.]\n",
      " [ 0.  7. 16.  7.  1. 16.  8.  0.]\n",
      " [ 0.  9. 16. 13. 14. 16.  5.  0.]\n",
      " [ 0.  1. 10. 15. 16. 14.  0.  0.]\n",
      " [ 0.  0.  0.  1. 16. 10.  0.  0.]\n",
      " [ 0.  0.  0. 10. 15.  4.  0.  0.]]\n",
      "[[ 0.  5. 12. 13. 16. 16.  2.  0.]\n",
      " [ 0. 11. 16. 15.  8.  4.  0.  0.]\n",
      " [ 0.  8. 14. 11.  1.  0.  0.  0.]\n",
      " [ 0.  8. 16. 16. 14.  0.  0.  0.]\n",
      " [ 0.  1.  6.  6. 16.  0.  0.  0.]\n",
      " [ 0.  0.  0.  5. 16.  3.  0.  0.]\n",
      " [ 0.  1.  5. 15. 13.  0.  0.  0.]\n",
      " [ 0.  4. 15. 16.  2.  0.  0.  0.]]\n",
      "[[ 0.  0.  0.  8. 15.  1.  0.  0.]\n",
      " [ 0.  0.  0. 12. 14.  0.  0.  0.]\n",
      " [ 0.  0.  3. 16.  7.  0.  0.  0.]\n",
      " [ 0.  0.  6. 16.  2.  0.  0.  0.]\n",
      " [ 0.  0.  7. 16. 16. 13.  5.  0.]\n",
      " [ 0.  0. 15. 16.  9.  9. 14.  0.]\n",
      " [ 0.  0.  3. 14.  9.  2. 16.  2.]\n",
      " [ 0.  0.  0.  7. 15. 16. 11.  0.]]\n",
      "[[ 0.  0.  1.  8. 15. 10.  0.  0.]\n",
      " [ 0.  3. 13. 15. 14. 14.  0.  0.]\n",
      " [ 0.  5. 10.  0. 10. 12.  0.  0.]\n",
      " [ 0.  0.  3.  5. 15. 10.  2.  0.]\n",
      " [ 0.  0. 16. 16. 16. 16. 12.  0.]\n",
      " [ 0.  1.  8. 12. 14.  8.  3.  0.]\n",
      " [ 0.  0.  0. 10. 13.  0.  0.  0.]\n",
      " [ 0.  0.  0. 11.  9.  0.  0.  0.]]\n",
      "[[ 0.  0. 10.  7. 13.  9.  0.  0.]\n",
      " [ 0.  0.  9. 10. 12. 15.  2.  0.]\n",
      " [ 0.  0.  4. 11. 10. 11.  0.  0.]\n",
      " [ 0.  0.  1. 16. 10.  1.  0.  0.]\n",
      " [ 0.  0. 12. 13.  4.  0.  0.  0.]\n",
      " [ 0.  0. 12.  1. 12.  0.  0.  0.]\n",
      " [ 0.  1. 10.  2. 14.  0.  0.  0.]\n",
      " [ 0.  0. 11. 14.  5.  0.  0.  0.]]\n",
      "[[ 0.  0.  6. 14.  4.  0.  0.  0.]\n",
      " [ 0.  0. 11. 16. 10.  0.  0.  0.]\n",
      " [ 0.  0.  8. 14. 16.  2.  0.  0.]\n",
      " [ 0.  0.  1. 12. 12. 11.  0.  0.]\n",
      " [ 0.  0.  0.  0.  0. 11.  3.  0.]\n",
      " [ 0.  0.  0.  0.  0.  5. 11.  0.]\n",
      " [ 0.  0.  1.  4.  4.  7. 16.  2.]\n",
      " [ 0.  0.  7. 16. 16. 13. 11.  1.]]\n",
      "[[ 0.  0.  3. 13. 11.  7.  0.  0.]\n",
      " [ 0.  0. 11. 16. 16. 16.  2.  0.]\n",
      " [ 0.  4. 16.  9.  1. 14.  2.  0.]\n",
      " [ 0.  4. 16.  0.  0. 16.  2.  0.]\n",
      " [ 0.  0. 16.  1.  0. 12.  8.  0.]\n",
      " [ 0.  0. 15.  9.  0. 13.  6.  0.]\n",
      " [ 0.  0.  9. 14.  9. 14.  1.  0.]\n",
      " [ 0.  0.  2. 12. 13.  4.  0.  0.]]\n",
      "[[ 0.  0.  0.  2. 16. 16.  2.  0.]\n",
      " [ 0.  0.  0.  4. 16. 16.  2.  0.]\n",
      " [ 0.  1.  4. 12. 16. 12.  0.  0.]\n",
      " [ 0.  7. 16. 16. 16. 12.  0.  0.]\n",
      " [ 0.  0.  3. 10. 16. 14.  0.  0.]\n",
      " [ 0.  0.  0.  8. 16. 12.  0.  0.]\n",
      " [ 0.  0.  0.  6. 16. 16.  2.  0.]\n",
      " [ 0.  0.  0.  2. 12. 15.  4.  0.]]\n",
      "[[ 0.  0.  8. 16.  5.  0.  0.  0.]\n",
      " [ 0.  1. 13. 11. 16.  0.  0.  0.]\n",
      " [ 0.  0. 10.  0. 13.  3.  0.  0.]\n",
      " [ 0.  0.  3.  1. 16.  1.  0.  0.]\n",
      " [ 0.  0.  0.  9. 12.  0.  0.  0.]\n",
      " [ 0.  0.  3. 15.  5.  0.  0.  0.]\n",
      " [ 0.  0. 14. 15.  8.  8.  3.  0.]\n",
      " [ 0.  0.  7. 12. 12. 12. 13.  1.]]\n",
      "[[ 0.  1.  8. 12. 15. 14.  4.  0.]\n",
      " [ 0.  3. 11.  8.  8. 12. 12.  0.]\n",
      " [ 0.  0.  0.  0.  2. 13.  7.  0.]\n",
      " [ 0.  0.  0.  2. 15. 12.  1.  0.]\n",
      " [ 0.  0.  0.  0. 13.  5.  0.  0.]\n",
      " [ 0.  0.  0.  0.  9. 13.  0.  0.]\n",
      " [ 0.  0.  7.  8. 14. 15.  0.  0.]\n",
      " [ 0.  0. 14. 15. 11.  2.  0.  0.]]\n"
     ]
    }
   ],
   "source": [
    "for i in range(24):\n",
    "    print(digits.images[i])\n"
   ]
  },
  {
   "cell_type": "code",
   "execution_count": 3,
   "metadata": {},
   "outputs": [
    {
     "data": {
      "image/png": "[encoded data removed]",
      "text/plain": [
       "<Figure size 600x400 with 24 Axes>"
      ]
     },
     "metadata": {},
     "output_type": "display_data"
    }
   ],
   "source": [
    "import matplotlib.pyplot as plt\n",
    "\n",
    "\n",
    "def show_digits(digits, x, y):\n",
    "\n",
    "    figure, axes = plt.subplots(x, y, figsize=(y, x))\n",
    "\n",
    "    for item in zip(axes.ravel(), digits.images, digits.target):\n",
    "        axes, image, target = item\n",
    "        axes.imshow(image, cmap=plt.cm.gray_r)\n",
    "        axes.set_xticks([])\n",
    "        axes.set_yticks([])\n",
    "        axes.set_title(target)\n",
    "\n",
    "    plt.tight_layout()\n",
    "    plt.show()\n",
    "\n",
    "\n",
    "show_digits(digits, 4, 6)\n"
   ]
  },
  {
   "cell_type": "code",
   "execution_count": 4,
   "metadata": {},
   "outputs": [
    {
     "data": {
      "image/png": "[encoded data removed]",
      "text/plain": [
       "<Figure size 600x600 with 36 Axes>"
      ]
     },
     "metadata": {},
     "output_type": "display_data"
    }
   ],
   "source": [
    "show_digits(digits, 6, 6)\n"
   ]
  },
  {
   "cell_type": "code",
   "execution_count": 5,
   "metadata": {},
   "outputs": [],
   "source": [
    "from sklearn.model_selection import train_test_split\n",
    "\n",
    "X_train, X_test, y_train, y_test = train_test_split(\n",
    "    digits.data, digits.target, random_state=11)\n"
   ]
  },
  {
   "cell_type": "code",
   "execution_count": 6,
   "metadata": {},
   "outputs": [
    {
     "data": {
      "text/html": [
       "<style>#sk-container-id-1 {color: black;background-color: white;}#sk-container-id-1 pre{padding: 0;}#sk-container-id-1 div.sk-toggleable {background-color: white;}#sk-container-id-1 label.sk-toggleable__label {cursor: pointer;display: block;width: 100%;margin-bottom: 0;padding: 0.3em;box-sizing: border-box;text-align: center;}#sk-container-id-1 label.sk-toggleable__label-arrow:before {content: \"▸\";float: left;margin-right: 0.25em;color: #696969;}#sk-container-id-1 label.sk-toggleable__label-arrow:hover:before {color: black;}#sk-container-id-1 div.sk-estimator:hover label.sk-toggleable__label-arrow:before {color: black;}#sk-container-id-1 div.sk-toggleable__content {max-height: 0;max-width: 0;overflow: hidden;text-align: left;background-color: #f0f8ff;}#sk-container-id-1 div.sk-toggleable__content pre {margin: 0.2em;color: black;border-radius: 0.25em;background-color: #f0f8ff;}#sk-container-id-1 input.sk-toggleable__control:checked~div.sk-toggleable__content {max-height: 200px;max-width: 100%;overflow: auto;}#sk-container-id-1 input.sk-toggleable__control:checked~label.sk-toggleable__label-arrow:before {content: \"▾\";}#sk-container-id-1 div.sk-estimator input.sk-toggleable__control:checked~label.sk-toggleable__label {background-color: #d4ebff;}#sk-container-id-1 div.sk-label input.sk-toggleable__control:checked~label.sk-toggleable__label {background-color: #d4ebff;}#sk-container-id-1 input.sk-hidden--visually {border: 0;clip: rect(1px 1px 1px 1px);clip: rect(1px, 1px, 1px, 1px);height: 1px;margin: -1px;overflow: hidden;padding: 0;position: absolute;width: 1px;}#sk-container-id-1 div.sk-estimator {font-family: monospace;background-color: #f0f8ff;border: 1px dotted black;border-radius: 0.25em;box-sizing: border-box;margin-bottom: 0.5em;}#sk-container-id-1 div.sk-estimator:hover {background-color: #d4ebff;}#sk-container-id-1 div.sk-parallel-item::after {content: \"\";width: 100%;border-bottom: 1px solid gray;flex-grow: 1;}#sk-container-id-1 div.sk-label:hover label.sk-toggleable__label {background-color: #d4ebff;}#sk-container-id-1 div.sk-serial::before {content: \"\";position: absolute;border-left: 1px solid gray;box-sizing: border-box;top: 0;bottom: 0;left: 50%;z-index: 0;}#sk-container-id-1 div.sk-serial {display: flex;flex-direction: column;align-items: center;background-color: white;padding-right: 0.2em;padding-left: 0.2em;position: relative;}#sk-container-id-1 div.sk-item {position: relative;z-index: 1;}#sk-container-id-1 div.sk-parallel {display: flex;align-items: stretch;justify-content: center;background-color: white;position: relative;}#sk-container-id-1 div.sk-item::before, #sk-container-id-1 div.sk-parallel-item::before {content: \"\";position: absolute;border-left: 1px solid gray;box-sizing: border-box;top: 0;bottom: 0;left: 50%;z-index: -1;}#sk-container-id-1 div.sk-parallel-item {display: flex;flex-direction: column;z-index: 1;position: relative;background-color: white;}#sk-container-id-1 div.sk-parallel-item:first-child::after {align-self: flex-end;width: 50%;}#sk-container-id-1 div.sk-parallel-item:last-child::after {align-self: flex-start;width: 50%;}#sk-container-id-1 div.sk-parallel-item:only-child::after {width: 0;}#sk-container-id-1 div.sk-dashed-wrapped {border: 1px dashed gray;margin: 0 0.4em 0.5em 0.4em;box-sizing: border-box;padding-bottom: 0.4em;background-color: white;}#sk-container-id-1 div.sk-label label {font-family: monospace;font-weight: bold;display: inline-block;line-height: 1.2em;}#sk-container-id-1 div.sk-label-container {text-align: center;}#sk-container-id-1 div.sk-container {/* jupyter's `normalize.less` sets `[hidden] { display: none; }` but bootstrap.min.css set `[hidden] { display: none !important; }` so we also need the `!important` here to be able to override the default hidden behavior on the sphinx rendered scikit-learn.org. See: https://github.com/scikit-learn/scikit-learn/issues/21755 */display: inline-block !important;position: relative;}#sk-container-id-1 div.sk-text-repr-fallback {display: none;}</style><div id=\"sk-container-id-1\" class=\"sk-top-container\"><div class=\"sk-text-repr-fallback\"><pre>KNeighborsClassifier()</pre><b>In a Jupyter environment, please rerun this cell to show the HTML representation or trust the notebook. <br />On GitHub, the HTML representation is unable to render, please try loading this page with nbviewer.org.</b></div><div class=\"sk-container\" hidden><div class=\"sk-item\"><div class=\"sk-estimator sk-toggleable\"><input class=\"sk-toggleable__control sk-hidden--visually\" id=\"sk-estimator-id-1\" type=\"checkbox\" checked><label for=\"sk-estimator-id-1\" class=\"sk-toggleable__label sk-toggleable__label-arrow\">KNeighborsClassifier</label><div class=\"sk-toggleable__content\"><pre>KNeighborsClassifier()</pre></div></div></div></div></div>"
      ],
      "text/plain": [
       "KNeighborsClassifier()"
      ]
     },
     "execution_count": 6,
     "metadata": {},
     "output_type": "execute_result"
    }
   ],
   "source": [
    "from sklearn.neighbors import KNeighborsClassifier\n",
    "\n",
    "knn = KNeighborsClassifier()\n",
    "\n",
    "knn.fit(X_train, y_train)\n"
   ]
  },
  {
   "cell_type": "code",
   "execution_count": 7,
   "metadata": {},
   "outputs": [
    {
     "name": "stdout",
     "output_type": "stream",
     "text": [
      "\u001b[32m0\u001b[0m => \u001b[34m0\u001b[0m  |  \u001b[32m4\u001b[0m => \u001b[34m4\u001b[0m  |  \u001b[32m9\u001b[0m => \u001b[34m9\u001b[0m  |  \u001b[32m9\u001b[0m => \u001b[34m9\u001b[0m  |  \n",
      "\u001b[32m3\u001b[0m => \u001b[34m3\u001b[0m  |  \u001b[32m1\u001b[0m => \u001b[34m1\u001b[0m  |  \u001b[32m4\u001b[0m => \u001b[34m4\u001b[0m  |  \u001b[32m1\u001b[0m => \u001b[34m1\u001b[0m  |  \n",
      "\u001b[32m5\u001b[0m => \u001b[34m5\u001b[0m  |  \u001b[32m0\u001b[0m => \u001b[34m0\u001b[0m  |  \u001b[32m4\u001b[0m => \u001b[34m4\u001b[0m  |  \u001b[32m9\u001b[0m => \u001b[34m9\u001b[0m  |  \n",
      "\u001b[32m4\u001b[0m => \u001b[34m4\u001b[0m  |  \u001b[32m1\u001b[0m => \u001b[34m1\u001b[0m  |  \u001b[32m5\u001b[0m => \u001b[34m5\u001b[0m  |  \u001b[32m3\u001b[0m => \u001b[34m3\u001b[0m  |  \n",
      "\u001b[32m3\u001b[0m => \u001b[34m3\u001b[0m  |  \u001b[32m8\u001b[0m => \u001b[34m8\u001b[0m  |  \u001b[31m5\u001b[0m => \u001b[34m3\u001b[0m  |  \u001b[32m6\u001b[0m => \u001b[34m6\u001b[0m  |  \n",
      "\u001b[32m9\u001b[0m => \u001b[34m9\u001b[0m  |  \u001b[32m6\u001b[0m => \u001b[34m6\u001b[0m  |  \u001b[32m0\u001b[0m => \u001b[34m0\u001b[0m  |  \u001b[32m6\u001b[0m => \u001b[34m6\u001b[0m  |  \n",
      "\u001b[32m9\u001b[0m => \u001b[34m9\u001b[0m  |  \u001b[32m3\u001b[0m => \u001b[34m3\u001b[0m  |  \u001b[32m2\u001b[0m => \u001b[34m2\u001b[0m  |  \u001b[32m1\u001b[0m => \u001b[34m1\u001b[0m  |  \n",
      "\u001b[32m8\u001b[0m => \u001b[34m8\u001b[0m  |  \u001b[32m1\u001b[0m => \u001b[34m1\u001b[0m  |  \u001b[32m7\u001b[0m => \u001b[34m7\u001b[0m  |  \u001b[32m0\u001b[0m => \u001b[34m0\u001b[0m  |  \n",
      "\u001b[32m4\u001b[0m => \u001b[34m4\u001b[0m  |  \u001b[32m4\u001b[0m => \u001b[34m4\u001b[0m  |  \u001b[32m1\u001b[0m => \u001b[34m1\u001b[0m  |  \u001b[32m5\u001b[0m => \u001b[34m5\u001b[0m  |  \n"
     ]
    }
   ],
   "source": [
    "predicted = knn.predict(X_test)\n",
    "\n",
    "expected = y_test\n",
    "\n",
    "RED_COLOR = '\\033[31m'\n",
    "GREEN_COLOR = '\\033[32m'\n",
    "BLUE_COLOR = '\\033[34m'\n",
    "END_COLOR = '\\033[0m'\n",
    "\n",
    "\n",
    "def compare(predicted_data, expected_data, amount=20):\n",
    "    line_count = 0\n",
    "    for pd, ed in zip(predicted_data[:amount], expected_data[:amount]):\n",
    "        if pd == ed:\n",
    "            print(\n",
    "                f\"{GREEN_COLOR}{pd}{END_COLOR} => {BLUE_COLOR}{ed}{END_COLOR}\", end='  |  ')\n",
    "        else:\n",
    "            print(\n",
    "                f\"{RED_COLOR}{pd}{END_COLOR} => {BLUE_COLOR}{ed}{END_COLOR}\", end='  |  ')\n",
    "\n",
    "        line_count += 1\n",
    "        if line_count == 4:\n",
    "            print()\n",
    "            line_count = 0\n",
    "\n",
    "\n",
    "compare(predicted, expected, 36)\n"
   ]
  },
  {
   "cell_type": "code",
   "execution_count": 8,
   "metadata": {},
   "outputs": [
    {
     "name": "stdout",
     "output_type": "stream",
     "text": [
      "97.78%\n"
     ]
    }
   ],
   "source": [
    "print(f'{knn.score(X_test, y_test):.2%}')\n"
   ]
  },
  {
   "cell_type": "code",
   "execution_count": 9,
   "metadata": {},
   "outputs": [
    {
     "name": "stdout",
     "output_type": "stream",
     "text": [
      "[[45  0  0  0  0  0  0  0  0  0]\n",
      " [ 0 45  0  0  0  0  0  0  0  0]\n",
      " [ 0  0 54  0  0  0  0  0  0  0]\n",
      " [ 0  0  0 42  0  1  0  1  0  0]\n",
      " [ 0  0  0  0 49  0  0  1  0  0]\n",
      " [ 0  0  0  0  0 38  0  0  0  0]\n",
      " [ 0  0  0  0  0  0 42  0  0  0]\n",
      " [ 0  0  0  0  0  0  0 45  0  0]\n",
      " [ 0  1  1  2  0  0  0  0 39  1]\n",
      " [ 0  0  0  0  1  0  0  0  1 41]]\n"
     ]
    }
   ],
   "source": [
    "from sklearn.metrics import confusion_matrix, classification_report\n",
    "\n",
    "confusion = confusion_matrix(expected, predicted)\n",
    "\n",
    "print(confusion)\n"
   ]
  },
  {
   "cell_type": "code",
   "execution_count": 10,
   "metadata": {},
   "outputs": [
    {
     "name": "stdout",
     "output_type": "stream",
     "text": [
      "              precision    recall  f1-score   support\n",
      "\n",
      "           0       1.00      1.00      1.00        45\n",
      "           1       0.98      1.00      0.99        45\n",
      "           2       0.98      1.00      0.99        54\n",
      "           3       0.95      0.95      0.95        44\n",
      "           4       0.98      0.98      0.98        50\n",
      "           5       0.97      1.00      0.99        38\n",
      "           6       1.00      1.00      1.00        42\n",
      "           7       0.96      1.00      0.98        45\n",
      "           8       0.97      0.89      0.93        44\n",
      "           9       0.98      0.95      0.96        43\n",
      "\n",
      "    accuracy                           0.98       450\n",
      "   macro avg       0.98      0.98      0.98       450\n",
      "weighted avg       0.98      0.98      0.98       450\n",
      "\n"
     ]
    }
   ],
   "source": [
    "names = [str(digit) for digit in digits.target_names]\n",
    "\n",
    "print(classification_report(expected, predicted, target_names=names))\n"
   ]
  },
  {
   "cell_type": "code",
   "execution_count": 38,
   "metadata": {},
   "outputs": [
    {
     "name": "stdout",
     "output_type": "stream",
     "text": [
      "\u001b[32m0\u001b[0m => \u001b[34m0\u001b[0m  |  \u001b[32m4\u001b[0m => \u001b[34m4\u001b[0m  |  \u001b[32m9\u001b[0m => \u001b[34m9\u001b[0m  |  \u001b[32m9\u001b[0m => \u001b[34m9\u001b[0m  |  \n",
      "\u001b[32m3\u001b[0m => \u001b[34m3\u001b[0m  |  \u001b[32m1\u001b[0m => \u001b[34m1\u001b[0m  |  \u001b[32m4\u001b[0m => \u001b[34m4\u001b[0m  |  \u001b[32m1\u001b[0m => \u001b[34m1\u001b[0m  |  \n",
      "\u001b[32m5\u001b[0m => \u001b[34m5\u001b[0m  |  \u001b[32m0\u001b[0m => \u001b[34m0\u001b[0m  |  \u001b[32m4\u001b[0m => \u001b[34m4\u001b[0m  |  \u001b[32m9\u001b[0m => \u001b[34m9\u001b[0m  |  \n",
      "\u001b[32m4\u001b[0m => \u001b[34m4\u001b[0m  |  \u001b[32m1\u001b[0m => \u001b[34m1\u001b[0m  |  \u001b[32m5\u001b[0m => \u001b[34m5\u001b[0m  |  \u001b[32m3\u001b[0m => \u001b[34m3\u001b[0m  |  \n",
      "\u001b[32m3\u001b[0m => \u001b[34m3\u001b[0m  |  \u001b[32m8\u001b[0m => \u001b[34m8\u001b[0m  |  \u001b[31m5\u001b[0m => \u001b[34m3\u001b[0m  |  \u001b[32m6\u001b[0m => \u001b[34m6\u001b[0m  |  \n",
      "\u001b[32m9\u001b[0m => \u001b[34m9\u001b[0m  |  \u001b[32m6\u001b[0m => \u001b[34m6\u001b[0m  |  \u001b[32m0\u001b[0m => \u001b[34m0\u001b[0m  |  \u001b[32m6\u001b[0m => \u001b[34m6\u001b[0m  |  \n",
      "\u001b[32m9\u001b[0m => \u001b[34m9\u001b[0m  |  \u001b[32m3\u001b[0m => \u001b[34m3\u001b[0m  |  \u001b[32m2\u001b[0m => \u001b[34m2\u001b[0m  |  \u001b[32m1\u001b[0m => \u001b[34m1\u001b[0m  |  \n",
      "\u001b[32m8\u001b[0m => \u001b[34m8\u001b[0m  |  \u001b[32m1\u001b[0m => \u001b[34m1\u001b[0m  |  \u001b[32m7\u001b[0m => \u001b[34m7\u001b[0m  |  \u001b[32m0\u001b[0m => \u001b[34m0\u001b[0m  |  \n",
      "\u001b[32m4\u001b[0m => \u001b[34m4\u001b[0m  |  \u001b[32m4\u001b[0m => \u001b[34m4\u001b[0m  |  \u001b[32m1\u001b[0m => \u001b[34m1\u001b[0m  |  \u001b[32m5\u001b[0m => \u001b[34m5\u001b[0m  |  \n",
      "98.67%\n"
     ]
    }
   ],
   "source": [
    "from sklearn.svm import SVC\n",
    "\n",
    "svm = SVC()\n",
    "svm.fit(X_train, y_train)\n",
    "\n",
    "predicted = svm.predict(X_test)\n",
    "expected = y_test\n",
    "\n",
    "compare(predicted, expected, 36)\n",
    "\n",
    "print(f'{svm.score(X_test, y_test):.2%}')\n",
    "\n",
    "confusion = confusion_matrix(expected, predicted)\n"
   ]
  },
  {
   "cell_type": "code",
   "execution_count": 36,
   "metadata": {},
   "outputs": [
    {
     "name": "stdout",
     "output_type": "stream",
     "text": [
      "\u001b[32m0\u001b[0m => \u001b[34m0\u001b[0m  |  \u001b[32m4\u001b[0m => \u001b[34m4\u001b[0m  |  \u001b[31m7\u001b[0m => \u001b[34m9\u001b[0m  |  \u001b[32m9\u001b[0m => \u001b[34m9\u001b[0m  |  \n",
      "\u001b[32m3\u001b[0m => \u001b[34m3\u001b[0m  |  \u001b[32m1\u001b[0m => \u001b[34m1\u001b[0m  |  \u001b[32m4\u001b[0m => \u001b[34m4\u001b[0m  |  \u001b[32m1\u001b[0m => \u001b[34m1\u001b[0m  |  \n",
      "\u001b[32m5\u001b[0m => \u001b[34m5\u001b[0m  |  \u001b[32m0\u001b[0m => \u001b[34m0\u001b[0m  |  \u001b[31m7\u001b[0m => \u001b[34m4\u001b[0m  |  \u001b[32m9\u001b[0m => \u001b[34m9\u001b[0m  |  \n",
      "\u001b[32m4\u001b[0m => \u001b[34m4\u001b[0m  |  \u001b[32m1\u001b[0m => \u001b[34m1\u001b[0m  |  \u001b[32m5\u001b[0m => \u001b[34m5\u001b[0m  |  \u001b[32m3\u001b[0m => \u001b[34m3\u001b[0m  |  \n",
      "\u001b[32m3\u001b[0m => \u001b[34m3\u001b[0m  |  \u001b[32m8\u001b[0m => \u001b[34m8\u001b[0m  |  \u001b[31m5\u001b[0m => \u001b[34m3\u001b[0m  |  \u001b[32m6\u001b[0m => \u001b[34m6\u001b[0m  |  \n",
      "\u001b[32m9\u001b[0m => \u001b[34m9\u001b[0m  |  \u001b[31m4\u001b[0m => \u001b[34m6\u001b[0m  |  \u001b[32m0\u001b[0m => \u001b[34m0\u001b[0m  |  \u001b[32m6\u001b[0m => \u001b[34m6\u001b[0m  |  \n",
      "\u001b[32m9\u001b[0m => \u001b[34m9\u001b[0m  |  \u001b[32m3\u001b[0m => \u001b[34m3\u001b[0m  |  \u001b[32m2\u001b[0m => \u001b[34m2\u001b[0m  |  \u001b[32m1\u001b[0m => \u001b[34m1\u001b[0m  |  \n",
      "\u001b[32m8\u001b[0m => \u001b[34m8\u001b[0m  |  \u001b[32m1\u001b[0m => \u001b[34m1\u001b[0m  |  \u001b[32m7\u001b[0m => \u001b[34m7\u001b[0m  |  \u001b[32m0\u001b[0m => \u001b[34m0\u001b[0m  |  \n",
      "\u001b[32m4\u001b[0m => \u001b[34m4\u001b[0m  |  \u001b[32m4\u001b[0m => \u001b[34m4\u001b[0m  |  \u001b[32m1\u001b[0m => \u001b[34m1\u001b[0m  |  \u001b[32m5\u001b[0m => \u001b[34m5\u001b[0m  |  \n",
      "86.89%\n"
     ]
    }
   ],
   "source": [
    "from sklearn.naive_bayes import GaussianNB\n",
    "\n",
    "gnb = GaussianNB()\n",
    "gnb.fit(X_train, y_train)\n",
    "\n",
    "predicted = gnb.predict(X_test)\n",
    "expected = y_test\n",
    "\n",
    "compare(predicted, expected, 36)\n",
    "\n",
    "print(f'{gnb.score(X_test, y_test):.2%}')\n"
   ]
  },
  {
   "cell_type": "code",
   "execution_count": 37,
   "metadata": {},
   "outputs": [
    {
     "name": "stdout",
     "output_type": "stream",
     "text": [
      "\u001b[32m0\u001b[0m => \u001b[34m0\u001b[0m  |  \u001b[32m4\u001b[0m => \u001b[34m4\u001b[0m  |  \u001b[32m9\u001b[0m => \u001b[34m9\u001b[0m  |  \u001b[32m9\u001b[0m => \u001b[34m9\u001b[0m  |  \n",
      "\u001b[32m3\u001b[0m => \u001b[34m3\u001b[0m  |  \u001b[32m1\u001b[0m => \u001b[34m1\u001b[0m  |  \u001b[32m4\u001b[0m => \u001b[34m4\u001b[0m  |  \u001b[32m1\u001b[0m => \u001b[34m1\u001b[0m  |  \n",
      "\u001b[32m5\u001b[0m => \u001b[34m5\u001b[0m  |  \u001b[32m0\u001b[0m => \u001b[34m0\u001b[0m  |  \u001b[32m4\u001b[0m => \u001b[34m4\u001b[0m  |  \u001b[32m9\u001b[0m => \u001b[34m9\u001b[0m  |  \n",
      "\u001b[32m4\u001b[0m => \u001b[34m4\u001b[0m  |  \u001b[32m1\u001b[0m => \u001b[34m1\u001b[0m  |  \u001b[32m5\u001b[0m => \u001b[34m5\u001b[0m  |  \u001b[32m3\u001b[0m => \u001b[34m3\u001b[0m  |  \n",
      "\u001b[32m3\u001b[0m => \u001b[34m3\u001b[0m  |  \u001b[32m8\u001b[0m => \u001b[34m8\u001b[0m  |  \u001b[31m5\u001b[0m => \u001b[34m3\u001b[0m  |  \u001b[32m6\u001b[0m => \u001b[34m6\u001b[0m  |  \n",
      "\u001b[32m9\u001b[0m => \u001b[34m9\u001b[0m  |  \u001b[32m6\u001b[0m => \u001b[34m6\u001b[0m  |  \u001b[32m0\u001b[0m => \u001b[34m0\u001b[0m  |  \u001b[32m6\u001b[0m => \u001b[34m6\u001b[0m  |  \n",
      "\u001b[32m9\u001b[0m => \u001b[34m9\u001b[0m  |  \u001b[32m3\u001b[0m => \u001b[34m3\u001b[0m  |  \u001b[32m2\u001b[0m => \u001b[34m2\u001b[0m  |  \u001b[32m1\u001b[0m => \u001b[34m1\u001b[0m  |  \n",
      "\u001b[32m8\u001b[0m => \u001b[34m8\u001b[0m  |  \u001b[32m1\u001b[0m => \u001b[34m1\u001b[0m  |  \u001b[32m7\u001b[0m => \u001b[34m7\u001b[0m  |  \u001b[32m0\u001b[0m => \u001b[34m0\u001b[0m  |  \n",
      "\u001b[32m4\u001b[0m => \u001b[34m4\u001b[0m  |  \u001b[32m4\u001b[0m => \u001b[34m4\u001b[0m  |  \u001b[32m1\u001b[0m => \u001b[34m1\u001b[0m  |  \u001b[32m5\u001b[0m => \u001b[34m5\u001b[0m  |  \n",
      "98.22%\n"
     ]
    }
   ],
   "source": [
    "knnhyper = KNeighborsClassifier(n_neighbors=3)\n",
    "knnhyper.fit(X_train, y_train)\n",
    "\n",
    "predicted = knnhyper.predict(X_test)\n",
    "expected = y_test\n",
    "\n",
    "compare(predicted, expected, 36)\n",
    "\n",
    "print(f'{knnhyper.score(X_test, y_test):.2%}')\n"
   ]
  }
 ],
 "metadata": {
  "kernelspec": {
   "display_name": ".venv",
   "language": "python",
   "name": "python3"
  },
  "language_info": {
   "codemirror_mode": {
    "name": "ipython",
    "version": 3
   },
   "file_extension": ".py",
   "mimetype": "text/x-python",
   "name": "python",
   "nbconvert_exporter": "python",
   "pygments_lexer": "ipython3",
   "version": "3.10.10"
  },
  "orig_nbformat": 4
 },
 "nbformat": 4,
 "nbformat_minor": 2
}
