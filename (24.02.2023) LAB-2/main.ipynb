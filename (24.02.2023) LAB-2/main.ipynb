{
 "cells": [
  {
   "attachments": {},
   "cell_type": "markdown",
   "metadata": {},
   "source": [
    "### Отримання метеорологічних даних від NOAA\n",
    "\n",
    "Завантажуємо CSV файл з сайту https://www.ncdc.noaa.gov/cag/\n",
    "\n",
    "Посилання на файл:\n",
    "https://www.ncei.noaa.gov/access/monitoring/climate-at-a-glance/city/time-series/USH00305801/tavg/1/1/1895-2022.csv?base_prd=true&begbaseyear=1991&endbaseyear=2020\n",
    "\n",
    "В файлі знаходяться дані січневих температур Нью-Йорка починаючи з 1895 року\n",
    "\n",
    "Прибираємо зайві стовпці і рядки, називаємо стовпці відповідними іменами"
   ]
  },
  {
   "cell_type": "code",
   "execution_count": null,
   "metadata": {},
   "outputs": [],
   "source": [
    "import pandas as pd\n",
    "\n",
    "temperatures = pd.read_csv(\"https://www.ncei.noaa.gov/access/monitoring/climate-at-a-glance/city/time-series/USH00305801/tavg/1/1/1895-2022.csv?base_prd=true&begbaseyear=1991&endbaseyear=2020\",\n",
    "                           usecols=[0, 1, 2],\n",
    "                            names=[\"Date\", \"Temperature\", \"Anomaly\"],\n",
    "                            skiprows=5,\n",
    "                           )\n",
    "temperatures.head()\n"
   ]
  },
  {
   "attachments": {},
   "cell_type": "markdown",
   "metadata": {},
   "source": [
    "### Обробка даних\n",
    "\n",
    "Оскільки дати знаходяться в форматі YYYYMM, то приберемо з них місяць, оскільки відомо, що вони всі січні"
   ]
  },
  {
   "cell_type": "code",
   "execution_count": null,
   "metadata": {},
   "outputs": [],
   "source": [
    "temperatures.Date = temperatures.Date.floordiv(100)\n",
    "temperatures.head()"
   ]
  },
  {
   "attachments": {},
   "cell_type": "markdown",
   "metadata": {},
   "source": [
    "### Прогнози на 2019-2022 роки\n",
    "\n",
    "Спрогнозуємо температуру на 2019-2022 роки за допомогою регресійної прямої, для цього використаємо бібліотеку scipy, яка містить функцію stats.linregress:"
   ]
  },
  {
   "cell_type": "code",
   "execution_count": null,
   "metadata": {},
   "outputs": [],
   "source": [
    "from scipy import stats\n",
    "\n",
    "linear_regression = stats.linregress(temperatures.Date, temperatures.Temperature)"
   ]
  },
  {
   "attachments": {},
   "cell_type": "markdown",
   "metadata": {},
   "source": [
    "Цей об'єкт містить в собі дві змінні: slope та intercept, які відповідають коефіцієнтам прямої m та b в рівнянні прямої\n",
    "\n",
    "$$ y=mx+b $$\n",
    "\n",
    "Визначимо функцію, яка буде приймати рік і повертати прогнозовану температуру"
   ]
  },
  {
   "cell_type": "code",
   "execution_count": null,
   "metadata": {},
   "outputs": [],
   "source": [
    "def predict(year):\n",
    "    return linear_regression.slope * year + linear_regression.intercept\n",
    "\n",
    "# Predicted temperatures for the 2019-2022\n",
    "print({year: predict(year) for year in range(2019, 2023)})"
   ]
  },
  {
   "attachments": {},
   "cell_type": "markdown",
   "metadata": {},
   "source": [
    "#### Припущення за 1890 рік"
   ]
  },
  {
   "cell_type": "code",
   "execution_count": null,
   "metadata": {},
   "outputs": [],
   "source": [
    "print({1890: predict(1890)})"
   ]
  },
  {
   "attachments": {},
   "cell_type": "markdown",
   "metadata": {},
   "source": [
    "### Візуалізація даних\n",
    "\n",
    "Побудуємо регресійну пряму, що представляє графік зміни обраних показників за період 1895-2022 років."
   ]
  },
  {
   "cell_type": "code",
   "execution_count": null,
   "metadata": {},
   "outputs": [],
   "source": [
    "import seaborn as sns\n",
    "\n",
    "sns.set_style(\"whitegrid\")\n",
    "\n",
    "plot = sns.regplot(x=\"Date\", y=\"Temperature\", data=temperatures, line_kws={\"color\": \"green\"})\n",
    "\n",
    "plot.figure.canvas.draw()"
   ]
  },
  {
   "attachments": {},
   "cell_type": "markdown",
   "metadata": {},
   "source": [
    "### Масштабування\n",
    "\n",
    "Відобразимо дані в іншому масштабі, щоб краще бачити зміни температури і нахил прямої"
   ]
  },
  {
   "cell_type": "code",
   "execution_count": null,
   "metadata": {},
   "outputs": [],
   "source": [
    "plot = sns.regplot(x=\"Date\", y=\"Temperature\", data=temperatures, line_kws={\"color\": \"green\"})\n",
    "plot.set_ylim(0, 60)"
   ]
  }
 ],
 "metadata": {
  "kernelspec": {
   "display_name": ".venv",
   "language": "python",
   "name": "python3"
  },
  "language_info": {
   "codemirror_mode": {
    "name": "ipython",
    "version": 3
   },
   "file_extension": ".py",
   "mimetype": "text/x-python",
   "name": "python",
   "nbconvert_exporter": "python",
   "pygments_lexer": "ipython3",
   "version": "3.10.10"
  },
  "orig_nbformat": 4,
  "vscode": {
   "interpreter": {
    "hash": "a650a5af98809666ee2c5fb8258addd4e2d044fd3ea30cf9b9d8c62172dc5959"
   }
  }
 },
 "nbformat": 4,
 "nbformat_minor": 2
}
