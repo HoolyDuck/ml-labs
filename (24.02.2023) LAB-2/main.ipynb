{
 "cells": [
  {
   "attachments": {},
   "cell_type": "markdown",
   "metadata": {},
   "source": [
    "### Отримання метеорологічних даних від NOAA\n",
    "\n",
    "Завантажуємо CSV файл з сайту https://www.ncdc.noaa.gov/cag/\n",
    "\n",
    "Посилання на файл:\n",
    "https://www.ncei.noaa.gov/access/monitoring/climate-at-a-glance/city/time-series/USH00305801/tavg/1/1/1895-2022.csv?base_prd=true&begbaseyear=1991&endbaseyear=2020\n",
    "\n",
    "В файлі знаходяться дані січневих температур Нью-Йорка починаючи з 1895 року\n",
    "\n",
    "Прибираємо зайві стовпці і рядки, називаємо стовпці відповідними іменами"
   ]
  },
  {
   "cell_type": "code",
   "execution_count": 10,
   "metadata": {},
   "outputs": [
    {
     "data": {
      "text/html": [
       "<div>\n",
       "<style scoped>\n",
       "    .dataframe tbody tr th:only-of-type {\n",
       "        vertical-align: middle;\n",
       "    }\n",
       "\n",
       "    .dataframe tbody tr th {\n",
       "        vertical-align: top;\n",
       "    }\n",
       "\n",
       "    .dataframe thead th {\n",
       "        text-align: right;\n",
       "    }\n",
       "</style>\n",
       "<table border=\"1\" class=\"dataframe\">\n",
       "  <thead>\n",
       "    <tr style=\"text-align: right;\">\n",
       "      <th></th>\n",
       "      <th>Date</th>\n",
       "      <th>Temperature</th>\n",
       "      <th>Anomaly</th>\n",
       "    </tr>\n",
       "  </thead>\n",
       "  <tbody>\n",
       "    <tr>\n",
       "      <th>0</th>\n",
       "      <td>189501</td>\n",
       "      <td>28.4</td>\n",
       "      <td>-5.1</td>\n",
       "    </tr>\n",
       "    <tr>\n",
       "      <th>1</th>\n",
       "      <td>189601</td>\n",
       "      <td>28.0</td>\n",
       "      <td>-5.5</td>\n",
       "    </tr>\n",
       "    <tr>\n",
       "      <th>2</th>\n",
       "      <td>189701</td>\n",
       "      <td>28.8</td>\n",
       "      <td>-4.7</td>\n",
       "    </tr>\n",
       "    <tr>\n",
       "      <th>3</th>\n",
       "      <td>189801</td>\n",
       "      <td>33.4</td>\n",
       "      <td>-0.1</td>\n",
       "    </tr>\n",
       "    <tr>\n",
       "      <th>4</th>\n",
       "      <td>189901</td>\n",
       "      <td>29.3</td>\n",
       "      <td>-4.2</td>\n",
       "    </tr>\n",
       "  </tbody>\n",
       "</table>\n",
       "</div>"
      ],
      "text/plain": [
       "     Date  Temperature  Anomaly\n",
       "0  189501         28.4     -5.1\n",
       "1  189601         28.0     -5.5\n",
       "2  189701         28.8     -4.7\n",
       "3  189801         33.4     -0.1\n",
       "4  189901         29.3     -4.2"
      ]
     },
     "execution_count": 10,
     "metadata": {},
     "output_type": "execute_result"
    }
   ],
   "source": [
    "import pandas as pd\n",
    "\n",
    "temperatures = pd.read_csv(\"https://www.ncei.noaa.gov/access/monitoring/climate-at-a-glance/city/time-series/USH00305801/tavg/1/1/1895-2022.csv?base_prd=true&begbaseyear=1991&endbaseyear=2020\",\n",
    "                           usecols=[0, 1, 2],\n",
    "                            names=[\"Date\", \"Temperature\", \"Anomaly\"],\n",
    "                            skiprows=5,\n",
    "                           )\n",
    "temperatures.head()\n"
   ]
  },
  {
   "attachments": {},
   "cell_type": "markdown",
   "metadata": {},
   "source": [
    "### Обробка даних\n",
    "\n",
    "Оскільки дати знаходяться в форматі YYYYMM, то приберемо з них місяць, оскільки відомо, що вони всі січні"
   ]
  },
  {
   "cell_type": "code",
   "execution_count": 11,
   "metadata": {},
   "outputs": [
    {
     "data": {
      "text/html": [
       "<div>\n",
       "<style scoped>\n",
       "    .dataframe tbody tr th:only-of-type {\n",
       "        vertical-align: middle;\n",
       "    }\n",
       "\n",
       "    .dataframe tbody tr th {\n",
       "        vertical-align: top;\n",
       "    }\n",
       "\n",
       "    .dataframe thead th {\n",
       "        text-align: right;\n",
       "    }\n",
       "</style>\n",
       "<table border=\"1\" class=\"dataframe\">\n",
       "  <thead>\n",
       "    <tr style=\"text-align: right;\">\n",
       "      <th></th>\n",
       "      <th>Date</th>\n",
       "      <th>Temperature</th>\n",
       "      <th>Anomaly</th>\n",
       "    </tr>\n",
       "  </thead>\n",
       "  <tbody>\n",
       "    <tr>\n",
       "      <th>0</th>\n",
       "      <td>1895</td>\n",
       "      <td>28.4</td>\n",
       "      <td>-5.1</td>\n",
       "    </tr>\n",
       "    <tr>\n",
       "      <th>1</th>\n",
       "      <td>1896</td>\n",
       "      <td>28.0</td>\n",
       "      <td>-5.5</td>\n",
       "    </tr>\n",
       "    <tr>\n",
       "      <th>2</th>\n",
       "      <td>1897</td>\n",
       "      <td>28.8</td>\n",
       "      <td>-4.7</td>\n",
       "    </tr>\n",
       "    <tr>\n",
       "      <th>3</th>\n",
       "      <td>1898</td>\n",
       "      <td>33.4</td>\n",
       "      <td>-0.1</td>\n",
       "    </tr>\n",
       "    <tr>\n",
       "      <th>4</th>\n",
       "      <td>1899</td>\n",
       "      <td>29.3</td>\n",
       "      <td>-4.2</td>\n",
       "    </tr>\n",
       "  </tbody>\n",
       "</table>\n",
       "</div>"
      ],
      "text/plain": [
       "   Date  Temperature  Anomaly\n",
       "0  1895         28.4     -5.1\n",
       "1  1896         28.0     -5.5\n",
       "2  1897         28.8     -4.7\n",
       "3  1898         33.4     -0.1\n",
       "4  1899         29.3     -4.2"
      ]
     },
     "execution_count": 11,
     "metadata": {},
     "output_type": "execute_result"
    }
   ],
   "source": [
    "temperatures.Date = temperatures.Date.floordiv(100)\n",
    "temperatures.head()"
   ]
  },
  {
   "attachments": {},
   "cell_type": "markdown",
   "metadata": {},
   "source": [
    "### Прогнози на 2019-2022 роки\n",
    "\n",
    "Спрогнозуємо температуру на 2019-2022 роки за допомогою регресійної прямої, для цього використаємо бібліотеку scipy, яка містить функцію stats.linregress:"
   ]
  },
  {
   "cell_type": "code",
   "execution_count": 12,
   "metadata": {},
   "outputs": [],
   "source": [
    "from scipy import stats\n",
    "\n",
    "linear_regression = stats.linregress(temperatures.Date, temperatures.Temperature)"
   ]
  },
  {
   "attachments": {},
   "cell_type": "markdown",
   "metadata": {},
   "source": [
    "Цей об'єкт містить в собі дві змінні: slope та intercept, які відповідають коефіцієнтам прямої m та b в рівнянні прямої\n",
    "\n",
    "$$ y=mx+b $$\n",
    "\n",
    "Визначимо функцію, яка буде приймати рік і повертати прогнозовану температуру"
   ]
  },
  {
   "cell_type": "code",
   "execution_count": 13,
   "metadata": {},
   "outputs": [
    {
     "name": "stdout",
     "output_type": "stream",
     "text": [
      "{2019: 33.09507702343893, 2020: 33.12159689159495, 2021: 33.14811675975096, 2022: 33.17463662790698}\n"
     ]
    }
   ],
   "source": [
    "def predict(year):\n",
    "    return linear_regression.slope * year + linear_regression.intercept\n",
    "\n",
    "# Predicted temperatures for the 2019-2022\n",
    "print({year: predict(year) for year in range(2019, 2023)})"
   ]
  },
  {
   "attachments": {},
   "cell_type": "markdown",
   "metadata": {},
   "source": [
    "#### Припущення за 1890 рік"
   ]
  },
  {
   "cell_type": "code",
   "execution_count": 14,
   "metadata": {},
   "outputs": [
    {
     "name": "stdout",
     "output_type": "stream",
     "text": [
      "{1890: 29.674014031312943}\n"
     ]
    }
   ],
   "source": [
    "print({1890: predict(1890)})"
   ]
  },
  {
   "attachments": {},
   "cell_type": "markdown",
   "metadata": {},
   "source": [
    "### Візуалізація даних\n",
    "\n",
    "Побудуємо регресійну пряму, що представляє графік зміни обраних показників за період 1895-2022 років."
   ]
  },
  {
   "cell_type": "code",
   "execution_count": 15,
   "metadata": {},
   "outputs": [
    {
     "data": {
      "image/png": "[encoded data removed]",
      "text/plain": [
       "<Figure size 640x480 with 1 Axes>"
      ]
     },
     "metadata": {},
     "output_type": "display_data"
    }
   ],
   "source": [
    "import seaborn as sns\n",
    "\n",
    "sns.set_style(\"whitegrid\")\n",
    "\n",
    "plot = sns.regplot(x=\"Date\", y=\"Temperature\", data=temperatures, line_kws={\"color\": \"green\"})\n",
    "\n",
    "plot.figure.canvas.draw()"
   ]
  },
  {
   "attachments": {},
   "cell_type": "markdown",
   "metadata": {},
   "source": [
    "Нахил регресійної прямої показує, що протягом останніх 125 років середня температура зростала."
   ]
  },
  {
   "attachments": {},
   "cell_type": "markdown",
   "metadata": {},
   "source": [
    "### Масштабування\n",
    "\n",
    "Відобразимо дані в іншому масштабі, щоб краще бачити зміни температури і нахил прямої"
   ]
  },
  {
   "cell_type": "code",
   "execution_count": 16,
   "metadata": {},
   "outputs": [
    {
     "data": {
      "text/plain": [
       "(0.0, 60.0)"
      ]
     },
     "execution_count": 16,
     "metadata": {},
     "output_type": "execute_result"
    },
    {
     "data": {
      "image/png": "[encoded data removed]",
      "text/plain": [
       "<Figure size 640x480 with 1 Axes>"
      ]
     },
     "metadata": {},
     "output_type": "display_data"
    }
   ],
   "source": [
    "plot = sns.regplot(x=\"Date\", y=\"Temperature\", data=temperatures, line_kws={\"color\": \"green\"})\n",
    "plot.set_ylim(0, 60)"
   ]
  },
  {
   "attachments": {},
   "cell_type": "markdown",
   "metadata": {},
   "source": [
    "### Перевірка прогнозу\n",
    "\n",
    "Порівняємо дані, отримані за формулою регресійної прямої, з реальними даними"
   ]
  },
  {
   "cell_type": "code",
   "execution_count": 23,
   "metadata": {},
   "outputs": [
    {
     "name": "stdout",
     "output_type": "stream",
     "text": [
      "Predicted temperatures:\n",
      "2019    33.095077\n",
      "2020    33.121597\n",
      "2021    33.148117\n",
      "2022    33.174637\n",
      "dtype: float64\n",
      "\n",
      "Actual temperatures:\n",
      "     Date  Temperature\n",
      "124  2019         32.6\n",
      "125  2020         39.2\n",
      "126  2021         34.8\n",
      "127  2022         30.4\n"
     ]
    }
   ],
   "source": [
    "print(\"Predicted temperatures:\", pd.Series({year: predict(year) for year in range(2019, 2023)}), sep=\"\\n\")\n",
    "\n",
    "print(\"\\nActual temperatures:\", temperatures[temperatures[\"Date\"] >= 2019].loc[:, [\"Date\", \"Temperature\"]], sep=\"\\n\")"
   ]
  },
  {
   "attachments": {},
   "cell_type": "markdown",
   "metadata": {},
   "source": [
    "Як бачимо, прогнози не сильно відрізняються від реальних даних. Якщо ми знайдемо стандартне відхилення:"
   ]
  },
  {
   "cell_type": "code",
   "execution_count": 24,
   "metadata": {},
   "outputs": [
    {
     "name": "stdout",
     "output_type": "stream",
     "text": [
      "Std variance: 4.476824618121345\n"
     ]
    }
   ],
   "source": [
    "print(\"Std variance:\", temperatures.Temperature.std())"
   ]
  },
  {
   "attachments": {},
   "cell_type": "markdown",
   "metadata": {},
   "source": [
    "То бачимо, що значення лежать в проміжках (або близько до проміжку) +- 4.5 градусів"
   ]
  }
 ],
 "metadata": {
  "kernelspec": {
   "display_name": ".venv",
   "language": "python",
   "name": "python3"
  },
  "language_info": {
   "codemirror_mode": {
    "name": "ipython",
    "version": 3
   },
   "file_extension": ".py",
   "mimetype": "text/x-python",
   "name": "python",
   "nbconvert_exporter": "python",
   "pygments_lexer": "ipython3",
   "version": "3.10.10"
  },
  "orig_nbformat": 4,
  "vscode": {
   "interpreter": {
    "hash": "a650a5af98809666ee2c5fb8258addd4e2d044fd3ea30cf9b9d8c62172dc5959"
   }
  }
 },
 "nbformat": 4,
 "nbformat_minor": 2
}
