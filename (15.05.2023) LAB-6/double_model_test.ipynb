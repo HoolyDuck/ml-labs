{
 "cells": [
  {
   "cell_type": "code",
   "execution_count": 63,
   "metadata": {},
   "outputs": [],
   "source": [
    "import tensorflow as tf\n",
    "import student_generator as sg\n",
    "import numpy as np\n",
    "import pandas as pd\n",
    "\n",
    "test_size = 20\n",
    "\n",
    "students = [sg.generate_students(60) for i in range(test_size)]\n",
    "\n",
    "students_copy = [students[i].copy() for i in range(test_size)]\n",
    "\n",
    "priv_students = [sg.choose_priv_students(\n",
    "    students[i]) for i in range(test_size)]\n",
    "\n",
    "non_priv_students = [sg.choose_non_priv_students(\n",
    "    students_copy[i]) for i in range(test_size)]\n",
    "\n",
    "x_test_priv = [priv_students[i][:, 0:4] for i in range(test_size)]\n",
    "y_test_priv = [priv_students[i][:, 5] for i in range(test_size)]\n",
    "\n",
    "x_test_non_priv = [non_priv_students[i][:, 0:4] for i in range(test_size)]\n",
    "y_test_non_priv = [non_priv_students[i][:, 5] for i in range(test_size)]\n"
   ]
  },
  {
   "cell_type": "code",
   "execution_count": 64,
   "metadata": {},
   "outputs": [],
   "source": [
    "x_test_data = np.reshape(x_test_priv, (test_size * 1500, 4))\n",
    "y_test_priv_data = np.reshape(y_test_priv, (test_size * 1500, 1))\n",
    "\n",
    "x_test_non_priv_data = np.reshape(x_test_non_priv, (test_size * 1500, 4))\n",
    "y_test_non_priv_data = np.reshape(y_test_non_priv, (test_size * 1500, 1))"
   ]
  },
  {
   "cell_type": "code",
   "execution_count": 65,
   "metadata": {},
   "outputs": [],
   "source": [
    "model_priv = tf.keras.models.load_model('models/double_models/model_priv.h5')\n",
    "model_non_priv = tf.keras.models.load_model('models/double_models/model_non_priv.h5')"
   ]
  },
  {
   "cell_type": "code",
   "execution_count": 66,
   "metadata": {},
   "outputs": [
    {
     "name": "stdout",
     "output_type": "stream",
     "text": [
      "938/938 [==============================] - 2s 2ms/step - loss: 0.0110 - accuracy: 0.9950\n",
      "938/938 [==============================] - 2s 2ms/step - loss: 0.0818 - accuracy: 0.9589\n"
     ]
    },
    {
     "data": {
      "text/plain": [
       "[0.08180725574493408, 0.958899974822998]"
      ]
     },
     "execution_count": 66,
     "metadata": {},
     "output_type": "execute_result"
    }
   ],
   "source": [
    "model_priv.evaluate(x_test_data, y_test_priv_data)\n",
    "model_non_priv.evaluate(x_test_non_priv_data, y_test_non_priv_data)"
   ]
  },
  {
   "cell_type": "code",
   "execution_count": 69,
   "metadata": {},
   "outputs": [
    {
     "name": "stdout",
     "output_type": "stream",
     "text": [
      "47/47 [==============================] - 0s 2ms/step\n",
      "47/47 [==============================] - 0s 2ms/step\n",
      "Priveleged right:  50\n",
      "Priveleged wrong:  10\n",
      "Non priveleged right:  1372\n",
      "Non priveleged wrong:  68\n",
      "Priveleged right accepted:  35\n",
      "Non priveleged right accepted:  350\n"
     ]
    }
   ],
   "source": [
    "predictions_priv = model_priv.predict(x_test_data[0:1500])\n",
    "predictions_non_priv = model_non_priv.predict(x_test_non_priv_data[0:1500])\n",
    "\n",
    "expected_priv = y_test_priv_data[0:1500]\n",
    "expected_non_priv = y_test_non_priv_data[0:1500]\n",
    "\n",
    "\n",
    "predictions_priv = predictions_priv.round().reshape(1500)\n",
    "predictions_non_priv = predictions_non_priv.round().reshape(1500)\n",
    "\n",
    "expected_priv = expected_priv.reshape(1500)\n",
    "expected_non_priv = expected_non_priv.reshape(1500)\n",
    "\n",
    "# to excel priv and expected\n",
    "import pandas as pd\n",
    "\n",
    "df = pd.DataFrame({'predicted': predictions_priv, 'excepted': expected_priv ,'math': x_test_data[0:1500, 0], 'en': x_test_data[0:1500, 1], 'ua': x_test_data[0:1500, 2], 'priv': x_test_data[0:1500, 3]})\n",
    "\n",
    "df.to_excel('predicted_priv.xlsx', index=False)\n",
    "\n",
    "# merge priv and non priv\n",
    "predicted = [ predictions_priv[i] if students[0][i][3] == 1 else predictions_non_priv[i] for i in range(1500)]\n",
    "expected = [ expected_priv[i] if students[0][i][3] == 1 else expected_non_priv[i] for i in range(1500)]\n",
    "\n",
    "priveleged_right = 0\n",
    "priveleged_wrong = 0\n",
    "\n",
    "non_priveleged_right = 0\n",
    "non_priveleged_wrong = 0\n",
    "\n",
    "priveleged_right_accepted = 0\n",
    "non_priveleged_right_accepted = 0\n",
    "\n",
    "for (pred, exp, test) in zip(predicted, expected, x_test_data[0:1500]):\n",
    "    if test[3] == 1:\n",
    "        if pred == exp:\n",
    "            priveleged_right += 1\n",
    "            if pred == 1:\n",
    "                priveleged_right_accepted += 1\n",
    "        else:\n",
    "            priveleged_wrong += 1\n",
    "    else:\n",
    "        if pred == exp:\n",
    "            non_priveleged_right += 1\n",
    "            if pred == 1:\n",
    "                non_priveleged_right_accepted += 1\n",
    "        else:\n",
    "            non_priveleged_wrong += 1\n",
    "\n",
    "print(\"Priveleged right: \", priveleged_right)\n",
    "print(\"Priveleged wrong: \", priveleged_wrong)\n",
    "print(\"Non priveleged right: \", non_priveleged_right)\n",
    "print(\"Non priveleged wrong: \", non_priveleged_wrong)\n",
    "\n",
    "print(\"Priveleged right accepted: \", priveleged_right_accepted)\n",
    "print(\"Non priveleged right accepted: \", non_priveleged_right_accepted)\n",
    "\n",
    "# to excel\n",
    "\n",
    "import pandas as pd\n",
    "\n",
    "df = pd.DataFrame({'predicted': predicted, 'excepted': expected, 'math': x_test_data[0:1500, 0], 'en': x_test_data[0:1500, 1], 'ua': x_test_data[0:1500, 2], 'priv': x_test_data[0:1500, 3]})\n",
    "\n",
    "df.to_excel('predicted.xlsx', index=False)"
   ]
  }
 ],
 "metadata": {
  "kernelspec": {
   "display_name": ".venv",
   "language": "python",
   "name": "python3"
  },
  "language_info": {
   "codemirror_mode": {
    "name": "ipython",
    "version": 3
   },
   "file_extension": ".py",
   "mimetype": "text/x-python",
   "name": "python",
   "nbconvert_exporter": "python",
   "pygments_lexer": "ipython3",
   "version": "3.10.11"
  },
  "orig_nbformat": 4
 },
 "nbformat": 4,
 "nbformat_minor": 2
}
