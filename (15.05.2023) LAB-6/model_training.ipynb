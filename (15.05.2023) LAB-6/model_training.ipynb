{
 "cells": [
  {
   "cell_type": "code",
   "execution_count": 9,
   "metadata": {},
   "outputs": [],
   "source": [
    "import student_generator as sg\n",
    "import tensorflow as tf\n",
    "import numpy as np\n",
    "\n",
    "train_size = 100\n",
    "\n",
    "generated = [sg.choose_students(sg.generate_students(60)) for _ in range(train_size)]\n",
    "\n",
    "x_train = [generated[i][:, 0:4] for i in range(train_size)]\n",
    "y_train = [generated[i][:, 5] for i in range(train_size)]"
   ]
  },
  {
   "cell_type": "code",
   "execution_count": 10,
   "metadata": {},
   "outputs": [],
   "source": [
    "import numpy as np\n",
    "\n",
    "x_train_data = np.array(x_train)\n",
    "y_train_data = np.array(y_train)\n",
    "\n",
    "x_train_data = x_train_data.reshape(train_size * 1500, 4)\n",
    "y_train_data = y_train_data.reshape(train_size * 1500, 1).astype('int32')"
   ]
  },
  {
   "cell_type": "code",
   "execution_count": 16,
   "metadata": {},
   "outputs": [
    {
     "name": "stdout",
     "output_type": "stream",
     "text": [
      "Epoch 1/20\n",
      "3000/3000 [==============================] - 60s 20ms/step - loss: 0.6100 - accuracy: 0.7646\n",
      "Epoch 2/20\n",
      "3000/3000 [==============================] - 59s 20ms/step - loss: 0.5440 - accuracy: 0.7667\n",
      "Epoch 3/20\n",
      "3000/3000 [==============================] - 59s 20ms/step - loss: 0.5492 - accuracy: 0.7655\n",
      "Epoch 4/20\n",
      "3000/3000 [==============================] - 59s 20ms/step - loss: 0.4322 - accuracy: 0.8065\n",
      "Epoch 5/20\n",
      "3000/3000 [==============================] - 59s 20ms/step - loss: 0.1927 - accuracy: 0.9259\n",
      "Epoch 6/20\n",
      "3000/3000 [==============================] - 59s 20ms/step - loss: 0.1399 - accuracy: 0.9442\n",
      "Epoch 7/20\n",
      "3000/3000 [==============================] - 59s 20ms/step - loss: 0.1251 - accuracy: 0.9473\n",
      "Epoch 8/20\n",
      "3000/3000 [==============================] - 60s 20ms/step - loss: 0.1166 - accuracy: 0.9518\n",
      "Epoch 9/20\n",
      "3000/3000 [==============================] - 59s 20ms/step - loss: 0.1082 - accuracy: 0.9543\n",
      "Epoch 10/20\n",
      "3000/3000 [==============================] - 59s 20ms/step - loss: 0.1053 - accuracy: 0.9564\n",
      "Epoch 11/20\n",
      "3000/3000 [==============================] - 59s 20ms/step - loss: 0.1060 - accuracy: 0.9569\n",
      "Epoch 12/20\n",
      "3000/3000 [==============================] - 59s 20ms/step - loss: 0.1016 - accuracy: 0.9571\n",
      "Epoch 13/20\n",
      "3000/3000 [==============================] - 59s 20ms/step - loss: 0.0986 - accuracy: 0.9593\n",
      "Epoch 14/20\n",
      "3000/3000 [==============================] - 59s 20ms/step - loss: 0.1035 - accuracy: 0.9589\n",
      "Epoch 15/20\n",
      "3000/3000 [==============================] - 59s 20ms/step - loss: 0.1076 - accuracy: 0.9575\n",
      "Epoch 16/20\n",
      "3000/3000 [==============================] - 58s 19ms/step - loss: 0.0998 - accuracy: 0.9584\n",
      "Epoch 17/20\n",
      "3000/3000 [==============================] - 59s 20ms/step - loss: 0.1183 - accuracy: 0.9543\n",
      "Epoch 18/20\n",
      "3000/3000 [==============================] - 61s 20ms/step - loss: 0.0958 - accuracy: 0.9604\n",
      "Epoch 19/20\n",
      "3000/3000 [==============================] - 61s 20ms/step - loss: 0.0979 - accuracy: 0.9598\n",
      "Epoch 20/20\n",
      "3000/3000 [==============================] - 60s 20ms/step - loss: 0.1051 - accuracy: 0.9563\n"
     ]
    },
    {
     "data": {
      "text/plain": [
       "<keras.callbacks.History at 0x266ccfdffa0>"
      ]
     },
     "execution_count": 16,
     "metadata": {},
     "output_type": "execute_result"
    }
   ],
   "source": [
    "model = tf.keras.models.Sequential([\n",
    "    tf.keras.layers.Dense(1000, activation='relu', input_shape=(4, )),\n",
    "    tf.keras.layers.Dense(1000, activation='relu', ),\n",
    "    tf.keras.layers.Dense(1000, activation='relu', ),\n",
    "    tf.keras.layers.Dense(1, activation='sigmoid')\n",
    "])\n",
    "\n",
    "model.compile(optimizer='adam',\n",
    "              loss='binary_crossentropy',\n",
    "              metrics=['accuracy'])\n",
    "\n",
    "model.fit(x_train_data, y_train_data, epochs=20, batch_size=50)\n",
    "\n"
   ]
  },
  {
   "cell_type": "code",
   "execution_count": 14,
   "metadata": {},
   "outputs": [],
   "source": [
    "model.save('models/model-1000-1000-1000-350-60.h5')"
   ]
  }
 ],
 "metadata": {
  "kernelspec": {
   "display_name": ".venv",
   "language": "python",
   "name": "python3"
  },
  "language_info": {
   "codemirror_mode": {
    "name": "ipython",
    "version": 3
   },
   "file_extension": ".py",
   "mimetype": "text/x-python",
   "name": "python",
   "nbconvert_exporter": "python",
   "pygments_lexer": "ipython3",
   "version": "3.10.11"
  },
  "orig_nbformat": 4
 },
 "nbformat": 4,
 "nbformat_minor": 2
}
