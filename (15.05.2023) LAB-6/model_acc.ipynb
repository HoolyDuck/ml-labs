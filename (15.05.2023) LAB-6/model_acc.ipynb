{
 "cells": [
  {
   "cell_type": "code",
   "execution_count": 42,
   "metadata": {},
   "outputs": [],
   "source": [
    "import student_generator as sg\n",
    "\n",
    "test_size = 20\n",
    "\n",
    "generated_test = [sg.choose_students(sg.generate_students(60)) for _ in range(test_size)]\n",
    "\n",
    "x_test = [generated_test[i][:, 0:4] for i in range(test_size)]\n",
    "y_test = [generated_test[i][:, 5] for i in range(test_size)]\n"
   ]
  },
  {
   "cell_type": "code",
   "execution_count": 43,
   "metadata": {},
   "outputs": [],
   "source": [
    "import numpy as np\n",
    "\n",
    "x_test_data = np.array(x_test)\n",
    "y_test_data = np.array(y_test).astype('int32')\n",
    "\n",
    "x_test_data = x_test_data.reshape(test_size * 1500, 4)\n",
    "y_test_data = y_test_data.reshape(test_size * 1500, 1)"
   ]
  },
  {
   "cell_type": "code",
   "execution_count": 46,
   "metadata": {},
   "outputs": [
    {
     "name": "stdout",
     "output_type": "stream",
     "text": [
      "938/938 [==============================] - 4s 4ms/step - loss: 0.1182 - accuracy: 0.9418\n"
     ]
    },
    {
     "data": {
      "text/plain": [
       "[0.11817676573991776, 0.9417999982833862]"
      ]
     },
     "execution_count": 46,
     "metadata": {},
     "output_type": "execute_result"
    }
   ],
   "source": [
    "import tensorflow as tf\n",
    "\n",
    "model = tf.keras.models.load_model('models/model-1000-1000-1000-350-60.h5')\n",
    "\n",
    "model.evaluate(x_test_data, y_test_data)"
   ]
  },
  {
   "attachments": {},
   "cell_type": "markdown",
   "metadata": {},
   "source": []
  },
  {
   "cell_type": "code",
   "execution_count": 47,
   "metadata": {},
   "outputs": [
    {
     "name": "stdout",
     "output_type": "stream",
     "text": [
      "47/47 [==============================] - 0s 4ms/step\n",
      "Priveleged right:  47\n",
      "Priveleged wrong:  13\n",
      "Non priveleged right:  1354\n",
      "Non priveleged wrong:  86\n",
      "Priveleged right accepted:  35\n",
      "Non priveleged right accepted:  315\n"
     ]
    }
   ],
   "source": [
    "predicted = model.predict(x_test_data[0:1500])\n",
    "excepted = y_test_data[0:1500]\n",
    "\n",
    "predicted = predicted.round(0).reshape(1500)\n",
    "excepted = excepted.reshape(1500)\n",
    "\n",
    "# COUNTS\n",
    "\n",
    "priveleged_right = 0\n",
    "priveleged_wrong = 0\n",
    "\n",
    "non_priveleged_right = 0\n",
    "non_priveleged_wrong = 0\n",
    "\n",
    "priveleged_right_accepted = 0\n",
    "non_priveleged_right_accepted = 0\n",
    "\n",
    "for (pred, exp, test) in zip(predicted, excepted, x_test_data[0:1500]):\n",
    "    if test[3] == 1:\n",
    "        if pred == exp:\n",
    "            priveleged_right += 1\n",
    "            if pred == 1:\n",
    "                priveleged_right_accepted += 1\n",
    "        else:\n",
    "            priveleged_wrong += 1\n",
    "    else:\n",
    "        if pred == exp:\n",
    "            non_priveleged_right += 1\n",
    "            if pred == 1:\n",
    "                non_priveleged_right_accepted += 1\n",
    "        else:\n",
    "            non_priveleged_wrong += 1\n",
    "\n",
    "print(\"Priveleged right: \", priveleged_right)\n",
    "print(\"Priveleged wrong: \", priveleged_wrong)\n",
    "print(\"Non priveleged right: \", non_priveleged_right)\n",
    "print(\"Non priveleged wrong: \", non_priveleged_wrong)\n",
    "\n",
    "print(\"Priveleged right accepted: \", priveleged_right_accepted)\n",
    "print(\"Non priveleged right accepted: \", non_priveleged_right_accepted)\n",
    "\n",
    "# to excel\n",
    "\n",
    "import pandas as pd\n",
    "\n",
    "df = pd.DataFrame({'predicted': predicted, 'excepted': excepted, 'math': x_test_data[0:1500, 0], 'en': x_test_data[0:1500, 1], 'ua': x_test_data[0:1500, 2], 'priv': x_test_data[0:1500, 3]})\n",
    "\n",
    "df.to_excel('predicted.xlsx', index=False)"
   ]
  }
 ],
 "metadata": {
  "kernelspec": {
   "display_name": ".venv",
   "language": "python",
   "name": "python3"
  },
  "language_info": {
   "codemirror_mode": {
    "name": "ipython",
    "version": 3
   },
   "file_extension": ".py",
   "mimetype": "text/x-python",
   "name": "python",
   "nbconvert_exporter": "python",
   "pygments_lexer": "ipython3",
   "version": "3.10.11"
  },
  "orig_nbformat": 4
 },
 "nbformat": 4,
 "nbformat_minor": 2
}
