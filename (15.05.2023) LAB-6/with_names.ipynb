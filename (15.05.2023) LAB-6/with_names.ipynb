{
 "cells": [
  {
   "cell_type": "code",
   "execution_count": 6,
   "metadata": {},
   "outputs": [],
   "source": [
    "import student_generator as sg\n",
    "import numpy as np\n",
    "import names as nm\n",
    "import pandas as pd\n",
    "import tensorflow as tf\n",
    "\n",
    "# 1. Generate students\n",
    "\n",
    "students = sg.generate_students(60)[:,:4]\n",
    "student_surnames = np.array([nm.get_random_surname() for i in range(1500)])\n",
    "student_names = np.array([nm.get_random_name() for i in range(1500)])\n",
    "student_patronymics = np.array([nm.get_random_patronymic() for i in range(1500)])\n",
    "\n",
    "# 2. Create dataframe with students and their names\n",
    "\n",
    "df = pd.DataFrame(student_surnames, columns=['Surname'])\n",
    "df['Name'] = student_names\n",
    "df['Patronymic'] = student_patronymics\n",
    "df['Math'] = students[:,0].round(0)\n",
    "df['English'] = students[:,1].round(0)\n",
    "df['Ukrainian'] = students[:,2].round(0)\n",
    "df['Privilege'] = [\"Yes\" if i == 1 else \"No\" for i in students[:,3]]\n",
    "\n",
    "# 3. Save dataframe to excel file\n",
    "\n",
    "df.to_excel('students.xlsx', index=False)\n",
    "\n",
    "\n",
    "\n"
   ]
  },
  {
   "cell_type": "code",
   "execution_count": 8,
   "metadata": {},
   "outputs": [],
   "source": [
    "# Read data from excel file\n",
    "\n",
    "df = pd.read_excel('students.xlsx')\n",
    "\n",
    "# Convert privilege column to 0 and 1\n",
    "\n",
    "df['Privilege'] = [1 if i == \"Yes\" else 0 for i in df['Privilege']]\n",
    "\n",
    "# Convert to numpy array and format data\n",
    "\n",
    "students = df.to_numpy()\n",
    "students = students[:,3:7]\n",
    "students = students.astype('float32')\n"
   ]
  },
  {
   "cell_type": "code",
   "execution_count": 11,
   "metadata": {},
   "outputs": [
    {
     "name": "stdout",
     "output_type": "stream",
     "text": [
      "47/47 [==============================] - 0s 3ms/step\n",
      "[1. 0. 0. ... 0. 0. 0.]\n"
     ]
    }
   ],
   "source": [
    "model = tf.keras.models.load_model('models/model-1500-1500-350-60.h5')\n",
    "\n",
    "# Predict results\n",
    "\n",
    "results = model.predict(students)\n",
    "results = results.reshape(1500).round(0)\n"
   ]
  },
  {
   "cell_type": "code",
   "execution_count": 32,
   "metadata": {},
   "outputs": [],
   "source": [
    "accepted_df = pd.DataFrame(df['Surname'], columns=['Surname'])\n",
    "accepted_df['Name'] = df['Name']\n",
    "accepted_df['Patronymic'] = df['Patronymic']\n",
    "accepted_df['Math'] = df['Math']\n",
    "accepted_df['English'] = df['English']\n",
    "accepted_df['Ukrainian'] = df['Ukrainian']\n",
    "# privilege back to Yes/No\n",
    "accepted_df['Privilege'] = [\"Yes\" if i == 1 else \"No\" for i in df['Privilege']]\n",
    "accepted_df['Exam average'] = (df['Math'] * 0.4 + df['English']*  0.3 + df['Ukrainian'] * 0.3) \n",
    "accepted_df['Accepted'] = [\"Yes\" if i == 1 else \"No\" for i in results]\n",
    "\n",
    "import openpyxl as xl\n",
    "from openpyxl.utils.dataframe import dataframe_to_rows\n",
    "\n",
    "# Create new excel file with accepted students\n",
    "\n",
    "wb = xl.Workbook()\n",
    "ws = wb.active\n",
    "\n",
    "# Color student background green if he is accepted\n",
    "\n",
    "for row in dataframe_to_rows(accepted_df, index=False, header=True):\n",
    "    ws.append(row)\n",
    "    if row[8] == \"Yes\":\n",
    "        for cell in ws[ws.max_row]:\n",
    "            cell.fill = xl.styles.PatternFill(start_color='BDFFC8', end_color='BDFFC8', fill_type='solid')\n",
    "    else :\n",
    "        for cell in ws[ws.max_row]:\n",
    "            cell.fill = xl.styles.PatternFill(start_color='FFBDBD', end_color='FFBDBD', fill_type='solid')\n",
    "\n",
    "\n",
    "\n",
    "wb.save('accepted_students.xlsx')"
   ]
  }
 ],
 "metadata": {
  "kernelspec": {
   "display_name": ".venv",
   "language": "python",
   "name": "python3"
  },
  "language_info": {
   "codemirror_mode": {
    "name": "ipython",
    "version": 3
   },
   "file_extension": ".py",
   "mimetype": "text/x-python",
   "name": "python",
   "nbconvert_exporter": "python",
   "pygments_lexer": "ipython3",
   "version": "3.10.11"
  },
  "orig_nbformat": 4
 },
 "nbformat": 4,
 "nbformat_minor": 2
}
