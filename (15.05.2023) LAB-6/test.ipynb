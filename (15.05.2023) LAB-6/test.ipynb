{
 "cells": [
  {
   "cell_type": "code",
   "execution_count": 1,
   "metadata": {},
   "outputs": [],
   "source": [
    "import student_generator as sg\n",
    "import numpy as np\n",
    "import tensorflow as tf\n",
    "\n",
    "train_size = 100 \n",
    "\n",
    "priv_students = [sg.choose_priv_students(sg.generate_students(60)) for i in range(train_size)]\n",
    "non_priv_students = [sg.choose_non_priv_students(sg.generate_students(60)) for i in range(train_size)]\n",
    "\n",
    "x_train_priv = [priv_students[i][:, 0:4] for i in range(train_size)]\n",
    "y_train_priv = [priv_students[i][:, 5] for i in range(train_size)]\n",
    "\n",
    "x_train_non_priv = [non_priv_students[i][:, 0:4] for i in range(train_size)]\n",
    "y_train_non_priv = [non_priv_students[i][:, 5] for i in range(train_size)]\n",
    "\n",
    "\n"
   ]
  },
  {
   "cell_type": "code",
   "execution_count": 2,
   "metadata": {},
   "outputs": [],
   "source": [
    "x_train_priv_data = np.reshape(x_train_priv, (train_size * 1500, 4))\n",
    "y_train_priv_data = np.reshape(y_train_priv, (train_size * 1500, 1))\n",
    "\n",
    "x_train_non_priv_data = np.reshape(x_train_non_priv, (train_size * 1500, 4))\n",
    "y_train_non_priv_data = np.reshape(y_train_non_priv, (train_size * 1500, 1))"
   ]
  },
  {
   "cell_type": "code",
   "execution_count": 3,
   "metadata": {},
   "outputs": [],
   "source": [
    "model_priv = tf.keras.models.Sequential([\n",
    "    tf.keras.layers.Dense(1000, activation='relu'),\n",
    "    tf.keras.layers.Dense(1000, activation='relu'),\n",
    "    tf.keras.layers.Dense(1, activation='sigmoid')\n",
    "])\n",
    "\n",
    "model_non_priv = tf.keras.models.Sequential([\n",
    "    tf.keras.layers.Dense(1000, activation='relu'),\n",
    "    tf.keras.layers.Dense(1000, activation='relu'),\n",
    "    tf.keras.layers.Dense(1, activation='sigmoid')\n",
    "])\n",
    "\n",
    "model_priv.compile(optimizer='adam',\n",
    "                loss='binary_crossentropy',\n",
    "                metrics=['accuracy'])\n",
    "\n",
    "model_non_priv.compile(optimizer='adam',\n",
    "                loss='binary_crossentropy', \n",
    "                metrics=['accuracy'])\n",
    "\n"
   ]
  },
  {
   "cell_type": "code",
   "execution_count": 4,
   "metadata": {},
   "outputs": [
    {
     "name": "stdout",
     "output_type": "stream",
     "text": [
      "Epoch 1/20\n",
      "1500/1500 [==============================] - 19s 12ms/step - loss: 0.7776 - accuracy: 0.7442\n",
      "Epoch 2/20\n",
      "1500/1500 [==============================] - 18s 12ms/step - loss: 0.5313 - accuracy: 0.7665\n",
      "Epoch 3/20\n",
      "1500/1500 [==============================] - 18s 12ms/step - loss: 0.5148 - accuracy: 0.7667\n",
      "Epoch 4/20\n",
      "1500/1500 [==============================] - 18s 12ms/step - loss: 0.4699 - accuracy: 0.7765\n",
      "Epoch 5/20\n",
      "1500/1500 [==============================] - 18s 12ms/step - loss: 0.3526 - accuracy: 0.8453\n",
      "Epoch 6/20\n",
      "1500/1500 [==============================] - 19s 13ms/step - loss: 0.2478 - accuracy: 0.9112\n",
      "Epoch 7/20\n",
      "1500/1500 [==============================] - 19s 12ms/step - loss: 0.1891 - accuracy: 0.9372\n",
      "Epoch 8/20\n",
      "1500/1500 [==============================] - 19s 12ms/step - loss: 0.1539 - accuracy: 0.9485\n",
      "Epoch 9/20\n",
      "1500/1500 [==============================] - 18s 12ms/step - loss: 0.1332 - accuracy: 0.9547\n",
      "Epoch 10/20\n",
      "1500/1500 [==============================] - 19s 13ms/step - loss: 0.1218 - accuracy: 0.9560\n",
      "Epoch 11/20\n",
      "1500/1500 [==============================] - 19s 13ms/step - loss: 0.1119 - accuracy: 0.9580\n",
      "Epoch 12/20\n",
      "1500/1500 [==============================] - 19s 13ms/step - loss: 0.1060 - accuracy: 0.9597\n",
      "Epoch 13/20\n",
      "1500/1500 [==============================] - 19s 13ms/step - loss: 0.1046 - accuracy: 0.9589\n",
      "Epoch 14/20\n",
      "1500/1500 [==============================] - 20s 13ms/step - loss: 0.0910 - accuracy: 0.9667\n",
      "Epoch 15/20\n",
      "1500/1500 [==============================] - 20s 13ms/step - loss: 0.0921 - accuracy: 0.9643\n",
      "Epoch 16/20\n",
      "1500/1500 [==============================] - 19s 13ms/step - loss: 0.0878 - accuracy: 0.9652\n",
      "Epoch 17/20\n",
      "1500/1500 [==============================] - 19s 13ms/step - loss: 0.0825 - accuracy: 0.9672\n",
      "Epoch 18/20\n",
      "1500/1500 [==============================] - 19s 13ms/step - loss: 0.0868 - accuracy: 0.9642\n",
      "Epoch 19/20\n",
      "1500/1500 [==============================] - 19s 13ms/step - loss: 0.0809 - accuracy: 0.9660\n",
      "Epoch 20/20\n",
      "1500/1500 [==============================] - 19s 13ms/step - loss: 0.0791 - accuracy: 0.9681\n"
     ]
    },
    {
     "data": {
      "text/plain": [
       "<keras.callbacks.History at 0x258640b3e20>"
      ]
     },
     "execution_count": 4,
     "metadata": {},
     "output_type": "execute_result"
    }
   ],
   "source": [
    "model_non_priv.fit(x_train_non_priv_data, y_train_non_priv_data, epochs=20, batch_size=100)"
   ]
  },
  {
   "cell_type": "code",
   "execution_count": 5,
   "metadata": {},
   "outputs": [
    {
     "name": "stdout",
     "output_type": "stream",
     "text": [
      "Epoch 1/20\n",
      "1500/1500 [==============================] - 19s 13ms/step - loss: 0.2804 - accuracy: 0.9747\n",
      "Epoch 2/20\n",
      "1500/1500 [==============================] - 18s 12ms/step - loss: 0.0450 - accuracy: 0.9790\n",
      "Epoch 3/20\n",
      "1500/1500 [==============================] - 19s 13ms/step - loss: 0.0321 - accuracy: 0.9818\n",
      "Epoch 4/20\n",
      "1500/1500 [==============================] - 18s 12ms/step - loss: 0.0254 - accuracy: 0.9859\n",
      "Epoch 5/20\n",
      "1500/1500 [==============================] - 18s 12ms/step - loss: 0.0333 - accuracy: 0.9855\n",
      "Epoch 6/20\n",
      "1500/1500 [==============================] - 19s 12ms/step - loss: 0.0220 - accuracy: 0.9889\n",
      "Epoch 7/20\n",
      "1500/1500 [==============================] - 18s 12ms/step - loss: 0.0290 - accuracy: 0.9894\n",
      "Epoch 8/20\n",
      "1500/1500 [==============================] - 18s 12ms/step - loss: 0.0193 - accuracy: 0.9908\n",
      "Epoch 9/20\n",
      "1500/1500 [==============================] - 17s 12ms/step - loss: 0.0224 - accuracy: 0.9889\n",
      "Epoch 10/20\n",
      "1500/1500 [==============================] - 19s 12ms/step - loss: 0.0189 - accuracy: 0.9911\n",
      "Epoch 11/20\n",
      "1500/1500 [==============================] - 18s 12ms/step - loss: 0.0182 - accuracy: 0.9913\n",
      "Epoch 12/20\n",
      "1500/1500 [==============================] - 19s 13ms/step - loss: 0.0214 - accuracy: 0.9906\n",
      "Epoch 13/20\n",
      "1500/1500 [==============================] - 18s 12ms/step - loss: 0.0181 - accuracy: 0.9914\n",
      "Epoch 14/20\n",
      "1500/1500 [==============================] - 19s 13ms/step - loss: 0.0186 - accuracy: 0.9910\n",
      "Epoch 15/20\n",
      "1500/1500 [==============================] - 19s 12ms/step - loss: 0.0172 - accuracy: 0.9921\n",
      "Epoch 16/20\n",
      "1500/1500 [==============================] - 19s 13ms/step - loss: 0.0176 - accuracy: 0.9918\n",
      "Epoch 17/20\n",
      "1500/1500 [==============================] - 19s 13ms/step - loss: 0.0159 - accuracy: 0.9928\n",
      "Epoch 18/20\n",
      "1500/1500 [==============================] - 18s 12ms/step - loss: 0.0165 - accuracy: 0.9926\n",
      "Epoch 19/20\n",
      "1500/1500 [==============================] - 18s 12ms/step - loss: 0.0155 - accuracy: 0.9929\n",
      "Epoch 20/20\n",
      "1500/1500 [==============================] - 18s 12ms/step - loss: 0.0151 - accuracy: 0.9932\n"
     ]
    },
    {
     "data": {
      "text/plain": [
       "<keras.callbacks.History at 0x258649df7f0>"
      ]
     },
     "execution_count": 5,
     "metadata": {},
     "output_type": "execute_result"
    }
   ],
   "source": [
    "model_priv.fit(x_train_priv_data, y_train_priv_data, epochs=20, batch_size=100)"
   ]
  },
  {
   "cell_type": "code",
   "execution_count": 7,
   "metadata": {},
   "outputs": [],
   "source": [
    "model_priv.save('model_priv.h5')\n",
    "model_non_priv.save('model_non_priv.h5')"
   ]
  }
 ],
 "metadata": {
  "kernelspec": {
   "display_name": ".venv",
   "language": "python",
   "name": "python3"
  },
  "language_info": {
   "codemirror_mode": {
    "name": "ipython",
    "version": 3
   },
   "file_extension": ".py",
   "mimetype": "text/x-python",
   "name": "python",
   "nbconvert_exporter": "python",
   "pygments_lexer": "ipython3",
   "version": "3.10.11"
  },
  "orig_nbformat": 4
 },
 "nbformat": 4,
 "nbformat_minor": 2
}
